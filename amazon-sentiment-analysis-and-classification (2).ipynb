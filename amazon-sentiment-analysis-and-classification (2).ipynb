{
 "cells": [
  {
   "cell_type": "code",
   "execution_count": 1,
   "id": "35770bb0",
   "metadata": {
    "_cell_guid": "b1076dfc-b9ad-4769-8c92-a6c4dae69d19",
    "_uuid": "8f2839f25d086af736a60e9eeb907d3b93b6e0e5",
    "execution": {
     "iopub.execute_input": "2025-06-02T14:43:16.491285Z",
     "iopub.status.busy": "2025-06-02T14:43:16.490999Z",
     "iopub.status.idle": "2025-06-02T14:43:18.484619Z",
     "shell.execute_reply": "2025-06-02T14:43:18.483455Z"
    },
    "papermill": {
     "duration": 2.004577,
     "end_time": "2025-06-02T14:43:18.486207",
     "exception": false,
     "start_time": "2025-06-02T14:43:16.481630",
     "status": "completed"
    },
    "tags": []
   },
   "outputs": [
    {
     "name": "stdout",
     "output_type": "stream",
     "text": [
      "/kaggle/input/amazonreviews/test.ft.txt.bz2\n",
      "/kaggle/input/amazonreviews/train.ft.txt.bz2\n",
      "/kaggle/input/amazon-reviews/train.csv\n",
      "/kaggle/input/amazon-reviews/test.csv\n"
     ]
    }
   ],
   "source": [
    "# This Python 3 environment comes with many helpful analytics libraries installed\n",
    "# It is defined by the kaggle/python Docker image: https://github.com/kaggle/docker-python\n",
    "# For example, here's several helpful packages to load\n",
    "\n",
    "import numpy as np # linear algebra\n",
    "import pandas as pd # data processing, CSV file I/O (e.g. pd.read_csv)\n",
    "\n",
    "# Input data files are available in the read-only \"../input/\" directory\n",
    "# For example, running this (by clicking run or pressing Shift+Enter) will list all files under the input directory\n",
    "\n",
    "import os\n",
    "for dirname, _, filenames in os.walk('/kaggle/input'):\n",
    "    for filename in filenames:\n",
    "        print(os.path.join(dirname, filename))\n",
    "\n",
    "# You can write up to 20GB to the current directory (/kaggle/working/) that gets preserved as output when you create a version using \"Save & Run All\" \n",
    "# You can also write temporary files to /kaggle/temp/, but they won't be saved outside of the current session"
   ]
  },
  {
   "cell_type": "code",
   "execution_count": 2,
   "id": "75897f17",
   "metadata": {
    "execution": {
     "iopub.execute_input": "2025-06-02T14:43:18.502853Z",
     "iopub.status.busy": "2025-06-02T14:43:18.501819Z",
     "iopub.status.idle": "2025-06-02T14:43:20.979770Z",
     "shell.execute_reply": "2025-06-02T14:43:20.978853Z"
    },
    "papermill": {
     "duration": 2.487216,
     "end_time": "2025-06-02T14:43:20.981182",
     "exception": false,
     "start_time": "2025-06-02T14:43:18.493966",
     "status": "completed"
    },
    "tags": []
   },
   "outputs": [
    {
     "name": "stderr",
     "output_type": "stream",
     "text": [
      "[nltk_data] Downloading package stopwords to /usr/share/nltk_data...\n",
      "[nltk_data]   Package stopwords is already up-to-date!\n"
     ]
    }
   ],
   "source": [
    "import pandas as pd\n",
    "import nltk\n",
    "from nltk.corpus import stopwords\n",
    "nltk.download('stopwords')\n",
    "import sklearn\n",
    "from sklearn.linear_model import LogisticRegression\n",
    "from sklearn.metrics import classification_report, confusion_matrix, accuracy_score\n",
    "import re"
   ]
  },
  {
   "cell_type": "code",
   "execution_count": 3,
   "id": "fc1717a9",
   "metadata": {
    "execution": {
     "iopub.execute_input": "2025-06-02T14:43:20.996593Z",
     "iopub.status.busy": "2025-06-02T14:43:20.996166Z",
     "iopub.status.idle": "2025-06-02T14:44:04.744161Z",
     "shell.execute_reply": "2025-06-02T14:44:04.743210Z"
    },
    "papermill": {
     "duration": 43.757483,
     "end_time": "2025-06-02T14:44:04.745803",
     "exception": false,
     "start_time": "2025-06-02T14:43:20.988320",
     "status": "completed"
    },
    "tags": []
   },
   "outputs": [],
   "source": [
    "train_df = pd.read_csv('/kaggle/input/amazon-reviews/train.csv') \n",
    "test_df= pd.read_csv('/kaggle/input/amazon-reviews/test.csv')"
   ]
  },
  {
   "cell_type": "code",
   "execution_count": 4,
   "id": "2a64c826",
   "metadata": {
    "execution": {
     "iopub.execute_input": "2025-06-02T14:44:04.761893Z",
     "iopub.status.busy": "2025-06-02T14:44:04.761178Z",
     "iopub.status.idle": "2025-06-02T14:44:04.767709Z",
     "shell.execute_reply": "2025-06-02T14:44:04.766796Z"
    },
    "papermill": {
     "duration": 0.015926,
     "end_time": "2025-06-02T14:44:04.769107",
     "exception": false,
     "start_time": "2025-06-02T14:44:04.753181",
     "status": "completed"
    },
    "tags": []
   },
   "outputs": [
    {
     "data": {
      "text/plain": [
       "(3600000, 2)"
      ]
     },
     "execution_count": 4,
     "metadata": {},
     "output_type": "execute_result"
    }
   ],
   "source": [
    "train_df.shape\n"
   ]
  },
  {
   "cell_type": "code",
   "execution_count": 5,
   "id": "c66041ec",
   "metadata": {
    "execution": {
     "iopub.execute_input": "2025-06-02T14:44:04.784182Z",
     "iopub.status.busy": "2025-06-02T14:44:04.783903Z",
     "iopub.status.idle": "2025-06-02T14:44:04.789334Z",
     "shell.execute_reply": "2025-06-02T14:44:04.788568Z"
    },
    "papermill": {
     "duration": 0.014532,
     "end_time": "2025-06-02T14:44:04.790673",
     "exception": false,
     "start_time": "2025-06-02T14:44:04.776141",
     "status": "completed"
    },
    "tags": []
   },
   "outputs": [
    {
     "data": {
      "text/plain": [
       "(400000, 2)"
      ]
     },
     "execution_count": 5,
     "metadata": {},
     "output_type": "execute_result"
    }
   ],
   "source": [
    "test_df.shape"
   ]
  },
  {
   "cell_type": "code",
   "execution_count": 6,
   "id": "121bac71",
   "metadata": {
    "execution": {
     "iopub.execute_input": "2025-06-02T14:44:04.807044Z",
     "iopub.status.busy": "2025-06-02T14:44:04.806314Z",
     "iopub.status.idle": "2025-06-02T14:44:04.810320Z",
     "shell.execute_reply": "2025-06-02T14:44:04.809589Z"
    },
    "papermill": {
     "duration": 0.01339,
     "end_time": "2025-06-02T14:44:04.811723",
     "exception": false,
     "start_time": "2025-06-02T14:44:04.798333",
     "status": "completed"
    },
    "tags": []
   },
   "outputs": [],
   "source": [
    "# nltk.data.path.append('/kaggle/input/YOUR-UPLOADED-NLTK-DATA/nltk_data')\n"
   ]
  },
  {
   "cell_type": "code",
   "execution_count": 7,
   "id": "fa93b1c5",
   "metadata": {
    "execution": {
     "iopub.execute_input": "2025-06-02T14:44:04.827178Z",
     "iopub.status.busy": "2025-06-02T14:44:04.826826Z",
     "iopub.status.idle": "2025-06-02T14:44:05.034609Z",
     "shell.execute_reply": "2025-06-02T14:44:05.033726Z"
    },
    "papermill": {
     "duration": 0.217589,
     "end_time": "2025-06-02T14:44:05.036417",
     "exception": false,
     "start_time": "2025-06-02T14:44:04.818828",
     "status": "completed"
    },
    "tags": []
   },
   "outputs": [
    {
     "data": {
      "text/html": [
       "<div>\n",
       "<style scoped>\n",
       "    .dataframe tbody tr th:only-of-type {\n",
       "        vertical-align: middle;\n",
       "    }\n",
       "\n",
       "    .dataframe tbody tr th {\n",
       "        vertical-align: top;\n",
       "    }\n",
       "\n",
       "    .dataframe thead th {\n",
       "        text-align: right;\n",
       "    }\n",
       "</style>\n",
       "<table border=\"1\" class=\"dataframe\">\n",
       "  <thead>\n",
       "    <tr style=\"text-align: right;\">\n",
       "      <th></th>\n",
       "      <th>label</th>\n",
       "      <th>text</th>\n",
       "    </tr>\n",
       "  </thead>\n",
       "  <tbody>\n",
       "    <tr>\n",
       "      <th>2222202</th>\n",
       "      <td>positive</td>\n",
       "      <td>Great video depicting what life was like a long time ago.: It's got a nice little story to go along with it about a baby reptile struggling to survive. The CGI is REALLY good. My family saw this in the IMAX theater and really loved it. Now my 6 yr wants to see it all the time. A positive influence on young girls wanting to be scientists as the main researcher is a woman.</td>\n",
       "    </tr>\n",
       "    <tr>\n",
       "      <th>2101580</th>\n",
       "      <td>positive</td>\n",
       "      <td>The Wrong Case by James Crumley: Another craftily interwoven hunt for the answer leaves me hanging til the very end to see how all the pieces tie together. I am a bit prejudices because I love the references to Montana and the Northwest and characters true to life on the seedy side of town... but the unfolding is great, no matter where he take us! I still don't know who done it or what case is the right case and I am only 40 pages from the end. Milo is one tough privite eye who keeps me coming back for more!The Wrong Case</td>\n",
       "    </tr>\n",
       "    <tr>\n",
       "      <th>3255089</th>\n",
       "      <td>positive</td>\n",
       "      <td>Lego Mars Mission MT-51Claw-Tank Ambush: My grandson loves this Lego Mars Mission MT-51 Clae-Tank Ambush, he is a lego buff. This lego set was from an old series and it was everything he wanted it to be. I'm sure we will make other purchases in the future.Thanks</td>\n",
       "    </tr>\n",
       "    <tr>\n",
       "      <th>1565372</th>\n",
       "      <td>positive</td>\n",
       "      <td>T-fall frying pan: I love this pan, nothing sticks and it can go from stove top to the oven. Cooks illustrated recommended the T-Fall pans and that is why I bought it</td>\n",
       "    </tr>\n",
       "    <tr>\n",
       "      <th>2050320</th>\n",
       "      <td>negative</td>\n",
       "      <td>WATCH THE WHOLE THING: ok, granted, it's absolutely awful, the worst movie i have ever seen on any and all levels of moviemaking. HOWEVER, you really need to watch the whole thing, because it simply boggles the mind how bad this thing is. at the end, as your brain slowly melts out your ears, you'll thank me.</td>\n",
       "    </tr>\n",
       "  </tbody>\n",
       "</table>\n",
       "</div>"
      ],
      "text/plain": [
       "            label  \\\n",
       "2222202  positive   \n",
       "2101580  positive   \n",
       "3255089  positive   \n",
       "1565372  positive   \n",
       "2050320  negative   \n",
       "\n",
       "                                                                                                                                                                                                                                                                                                                                                                                                                                                                                                                                                    text  \n",
       "2222202                                                                                                                                                            Great video depicting what life was like a long time ago.: It's got a nice little story to go along with it about a baby reptile struggling to survive. The CGI is REALLY good. My family saw this in the IMAX theater and really loved it. Now my 6 yr wants to see it all the time. A positive influence on young girls wanting to be scientists as the main researcher is a woman.  \n",
       "2101580  The Wrong Case by James Crumley: Another craftily interwoven hunt for the answer leaves me hanging til the very end to see how all the pieces tie together. I am a bit prejudices because I love the references to Montana and the Northwest and characters true to life on the seedy side of town... but the unfolding is great, no matter where he take us! I still don't know who done it or what case is the right case and I am only 40 pages from the end. Milo is one tough privite eye who keeps me coming back for more!The Wrong Case  \n",
       "3255089                                                                                                                                                                                                                                                                           Lego Mars Mission MT-51Claw-Tank Ambush: My grandson loves this Lego Mars Mission MT-51 Clae-Tank Ambush, he is a lego buff. This lego set was from an old series and it was everything he wanted it to be. I'm sure we will make other purchases in the future.Thanks  \n",
       "1565372                                                                                                                                                                                                                                                                                                                                                                           T-fall frying pan: I love this pan, nothing sticks and it can go from stove top to the oven. Cooks illustrated recommended the T-Fall pans and that is why I bought it  \n",
       "2050320                                                                                                                                                                                                                            WATCH THE WHOLE THING: ok, granted, it's absolutely awful, the worst movie i have ever seen on any and all levels of moviemaking. HOWEVER, you really need to watch the whole thing, because it simply boggles the mind how bad this thing is. at the end, as your brain slowly melts out your ears, you'll thank me.  "
      ]
     },
     "execution_count": 7,
     "metadata": {},
     "output_type": "execute_result"
    }
   ],
   "source": [
    "import pandas as pd\n",
    "\n",
    "# Adjust pandas display settings to show more of the text\n",
    "pd.set_option('display.max_colwidth', None)  # Set to None to not truncate text\n",
    "\n",
    "# Randomly select 5 rows from the dataset and display the full text\n",
    "random_reviews = train_df.sample(5)\n",
    "random_reviews[['label', 'text']]\n"
   ]
  },
  {
   "cell_type": "code",
   "execution_count": 8,
   "id": "14038701",
   "metadata": {
    "execution": {
     "iopub.execute_input": "2025-06-02T14:44:05.052697Z",
     "iopub.status.busy": "2025-06-02T14:44:05.052398Z",
     "iopub.status.idle": "2025-06-02T14:44:05.057838Z",
     "shell.execute_reply": "2025-06-02T14:44:05.057031Z"
    },
    "papermill": {
     "duration": 0.015025,
     "end_time": "2025-06-02T14:44:05.059282",
     "exception": false,
     "start_time": "2025-06-02T14:44:05.044257",
     "status": "completed"
    },
    "tags": []
   },
   "outputs": [
    {
     "data": {
      "text/plain": [
       "Index(['label', 'text'], dtype='object')"
      ]
     },
     "execution_count": 8,
     "metadata": {},
     "output_type": "execute_result"
    }
   ],
   "source": [
    "train_df.columns"
   ]
  },
  {
   "cell_type": "code",
   "execution_count": 9,
   "id": "0cb4a819",
   "metadata": {
    "execution": {
     "iopub.execute_input": "2025-06-02T14:44:05.075297Z",
     "iopub.status.busy": "2025-06-02T14:44:05.075011Z",
     "iopub.status.idle": "2025-06-02T14:44:05.337277Z",
     "shell.execute_reply": "2025-06-02T14:44:05.336426Z"
    },
    "papermill": {
     "duration": 0.271904,
     "end_time": "2025-06-02T14:44:05.338714",
     "exception": false,
     "start_time": "2025-06-02T14:44:05.066810",
     "status": "completed"
    },
    "tags": []
   },
   "outputs": [
    {
     "data": {
      "text/plain": [
       "label\n",
       "positive    1800000\n",
       "negative    1800000\n",
       "Name: count, dtype: int64"
      ]
     },
     "execution_count": 9,
     "metadata": {},
     "output_type": "execute_result"
    }
   ],
   "source": [
    "train_df['label'].value_counts()\n"
   ]
  },
  {
   "cell_type": "code",
   "execution_count": 10,
   "id": "18bf8c1a",
   "metadata": {
    "execution": {
     "iopub.execute_input": "2025-06-02T14:44:05.355848Z",
     "iopub.status.busy": "2025-06-02T14:44:05.355159Z",
     "iopub.status.idle": "2025-06-02T14:44:05.361447Z",
     "shell.execute_reply": "2025-06-02T14:44:05.360506Z"
    },
    "papermill": {
     "duration": 0.016504,
     "end_time": "2025-06-02T14:44:05.362829",
     "exception": false,
     "start_time": "2025-06-02T14:44:05.346325",
     "status": "completed"
    },
    "tags": []
   },
   "outputs": [
    {
     "data": {
      "text/plain": [
       "'Stuning even for the non-gamer: This sound track was beautiful! It paints the senery in your mind so well I would recomend it even to people who hate vid. game music! I have played the game Chrono Cross but out of all of the games I have ever played it has the best music! It backs away from crude keyboarding and takes a fresher step with grate guitars and soulful orchestras. It would impress anyone who cares to listen! ^_^'"
      ]
     },
     "execution_count": 10,
     "metadata": {},
     "output_type": "execute_result"
    }
   ],
   "source": [
    "train_df['text'][0]"
   ]
  },
  {
   "cell_type": "code",
   "execution_count": 11,
   "id": "c392cba2",
   "metadata": {
    "execution": {
     "iopub.execute_input": "2025-06-02T14:44:05.380126Z",
     "iopub.status.busy": "2025-06-02T14:44:05.379730Z",
     "iopub.status.idle": "2025-06-02T14:44:50.537584Z",
     "shell.execute_reply": "2025-06-02T14:44:50.536696Z"
    },
    "papermill": {
     "duration": 45.168775,
     "end_time": "2025-06-02T14:44:50.539503",
     "exception": false,
     "start_time": "2025-06-02T14:44:05.370728",
     "status": "completed"
    },
    "tags": []
   },
   "outputs": [],
   "source": [
    "for df in [train_df, test_df]:\n",
    "    df['text_clean'] = df['text'].str.replace(r\"[^a-zA-Z\\s]\", '', regex=True)\n",
    "    df['text_clean'] = df['text_clean'].str.lower().str.strip()\n",
    "    # sw = set(stopwords.words('english'))\n",
    "    # def remove_stopwords(text):\n",
    "    #     return ' '.join([word for word in text.split() if word.lower() not in sw])\n",
    "    # df['text_clean'] = df['text'].apply(remove_stopwords)\n"
   ]
  },
  {
   "cell_type": "code",
   "execution_count": 12,
   "id": "61085f9d",
   "metadata": {
    "execution": {
     "iopub.execute_input": "2025-06-02T14:44:50.556655Z",
     "iopub.status.busy": "2025-06-02T14:44:50.556285Z",
     "iopub.status.idle": "2025-06-02T14:45:51.232939Z",
     "shell.execute_reply": "2025-06-02T14:45:51.231993Z"
    },
    "papermill": {
     "duration": 60.687346,
     "end_time": "2025-06-02T14:45:51.234851",
     "exception": false,
     "start_time": "2025-06-02T14:44:50.547505",
     "status": "completed"
    },
    "tags": []
   },
   "outputs": [],
   "source": [
    "sw = set(stopwords.words('english'))\n",
    "negations = {\"no\", \"not\", \"nor\", \"dont\", \"didnt\", \"isnt\", \"wasnt\", \"shouldnt\", \"wont\", \"cant\", \"couldnt\"}\n",
    "sw = sw.difference(negations)\n",
    "\n",
    "def remove_stopwords(text):\n",
    "    return ' '.join([word for word in text.split() if word.lower() not in sw])\n",
    "\n",
    "train_df['text_clean'] = train_df['text_clean'].apply(remove_stopwords)\n",
    "test_df['text_clean'] = test_df['text_clean'].apply(remove_stopwords)"
   ]
  },
  {
   "cell_type": "markdown",
   "id": "17d0e52b",
   "metadata": {
    "papermill": {
     "duration": 0.008979,
     "end_time": "2025-06-02T14:45:51.253018",
     "exception": false,
     "start_time": "2025-06-02T14:45:51.244039",
     "status": "completed"
    },
    "tags": []
   },
   "source": [
    "## Attempted Lemmatization"
   ]
  },
  {
   "cell_type": "code",
   "execution_count": 13,
   "id": "f1403ff1",
   "metadata": {
    "execution": {
     "iopub.execute_input": "2025-06-02T14:45:51.273549Z",
     "iopub.status.busy": "2025-06-02T14:45:51.273216Z",
     "iopub.status.idle": "2025-06-02T14:45:51.277898Z",
     "shell.execute_reply": "2025-06-02T14:45:51.277034Z"
    },
    "papermill": {
     "duration": 0.015875,
     "end_time": "2025-06-02T14:45:51.279474",
     "exception": false,
     "start_time": "2025-06-02T14:45:51.263599",
     "status": "completed"
    },
    "tags": []
   },
   "outputs": [],
   "source": [
    "# from nltk.stem import WordNetLemmatizer\n",
    "# lemmatizer = WordNetLemmatizer()"
   ]
  },
  {
   "cell_type": "code",
   "execution_count": 14,
   "id": "e18a5bb1",
   "metadata": {
    "execution": {
     "iopub.execute_input": "2025-06-02T14:45:51.296499Z",
     "iopub.status.busy": "2025-06-02T14:45:51.296218Z",
     "iopub.status.idle": "2025-06-02T14:45:51.300707Z",
     "shell.execute_reply": "2025-06-02T14:45:51.299650Z"
    },
    "papermill": {
     "duration": 0.015008,
     "end_time": "2025-06-02T14:45:51.302494",
     "exception": false,
     "start_time": "2025-06-02T14:45:51.287486",
     "status": "completed"
    },
    "tags": []
   },
   "outputs": [],
   "source": [
    "# def lemmatize_tokenizer(text):\n",
    "#     text = re.sub(r\"[^a-zA-Z]\", \" \", text)  # Remove non-letters\n",
    "#     tokens = nltk.word_tokenize(text.lower())  # Tokenize and lowercase\n",
    "#     lemmas = [lemmatizer.lemmatize(token) for token in tokens if token not in sw and len(token) > 2]\n",
    "#     return lemmas"
   ]
  },
  {
   "cell_type": "markdown",
   "id": "8664349f",
   "metadata": {
    "papermill": {
     "duration": 0.00865,
     "end_time": "2025-06-02T14:45:51.318958",
     "exception": false,
     "start_time": "2025-06-02T14:45:51.310308",
     "status": "completed"
    },
    "tags": []
   },
   "source": [
    "### Attempting Tokenization"
   ]
  },
  {
   "cell_type": "code",
   "execution_count": 15,
   "id": "0dc4b58a",
   "metadata": {
    "execution": {
     "iopub.execute_input": "2025-06-02T14:45:51.336703Z",
     "iopub.status.busy": "2025-06-02T14:45:51.336389Z",
     "iopub.status.idle": "2025-06-02T14:45:51.342232Z",
     "shell.execute_reply": "2025-06-02T14:45:51.341209Z"
    },
    "papermill": {
     "duration": 0.016901,
     "end_time": "2025-06-02T14:45:51.343965",
     "exception": false,
     "start_time": "2025-06-02T14:45:51.327064",
     "status": "completed"
    },
    "tags": []
   },
   "outputs": [],
   "source": [
    "def tokenize_text(text):\n",
    "    # Remove non-alphabet characters\n",
    "    text = re.sub(r\"[^a-zA-Z]\", \" \", text)\n",
    "    \n",
    "    # Lowercase and tokenize\n",
    "    tokens = nltk.word_tokenize(text.lower())\n",
    "    \n",
    "    # Remove stopwords and short tokens\n",
    "    tokens = [token for token in tokens if token not in sw and len(token) > 2]\n",
    "    \n",
    "    return tokens"
   ]
  },
  {
   "cell_type": "code",
   "execution_count": 16,
   "id": "d8f875e0",
   "metadata": {
    "execution": {
     "iopub.execute_input": "2025-06-02T14:45:51.431130Z",
     "iopub.status.busy": "2025-06-02T14:45:51.430160Z",
     "iopub.status.idle": "2025-06-02T14:58:21.238524Z",
     "shell.execute_reply": "2025-06-02T14:58:21.237210Z"
    },
    "papermill": {
     "duration": 749.890388,
     "end_time": "2025-06-02T14:58:21.242352",
     "exception": false,
     "start_time": "2025-06-02T14:45:51.351964",
     "status": "completed"
    },
    "tags": []
   },
   "outputs": [],
   "source": [
    "train_df['tokens'] = train_df['text_clean'].apply(tokenize_text)\n"
   ]
  },
  {
   "cell_type": "code",
   "execution_count": 17,
   "id": "7068175b",
   "metadata": {
    "execution": {
     "iopub.execute_input": "2025-06-02T14:58:21.263539Z",
     "iopub.status.busy": "2025-06-02T14:58:21.263260Z",
     "iopub.status.idle": "2025-06-02T14:58:21.270214Z",
     "shell.execute_reply": "2025-06-02T14:58:21.269250Z"
    },
    "papermill": {
     "duration": 0.018259,
     "end_time": "2025-06-02T14:58:21.271725",
     "exception": false,
     "start_time": "2025-06-02T14:58:21.253466",
     "status": "completed"
    },
    "tags": []
   },
   "outputs": [
    {
     "data": {
      "text/plain": [
       "'stuning even nongamer sound track beautiful paints senery mind well would recomend even people hate vid game music played game chrono cross games ever played best music backs away crude keyboarding takes fresher step grate guitars soulful orchestras would impress anyone cares listen'"
      ]
     },
     "execution_count": 17,
     "metadata": {},
     "output_type": "execute_result"
    }
   ],
   "source": [
    "train_df['text_clean'][0]\n"
   ]
  },
  {
   "cell_type": "markdown",
   "id": "cd73c904",
   "metadata": {
    "papermill": {
     "duration": 0.007419,
     "end_time": "2025-06-02T14:58:21.287036",
     "exception": false,
     "start_time": "2025-06-02T14:58:21.279617",
     "status": "completed"
    },
    "tags": []
   },
   "source": [
    "#### We’ll use TF-IDF (or CountVectorizer) to convert the text into numbers the model can understand.\n",
    "\n"
   ]
  },
  {
   "cell_type": "code",
   "execution_count": 18,
   "id": "61ff3bb3",
   "metadata": {
    "execution": {
     "iopub.execute_input": "2025-06-02T14:58:21.304270Z",
     "iopub.status.busy": "2025-06-02T14:58:21.303934Z",
     "iopub.status.idle": "2025-06-02T15:01:00.572888Z",
     "shell.execute_reply": "2025-06-02T15:01:00.571820Z"
    },
    "papermill": {
     "duration": 159.280308,
     "end_time": "2025-06-02T15:01:00.575510",
     "exception": false,
     "start_time": "2025-06-02T14:58:21.295202",
     "status": "completed"
    },
    "tags": []
   },
   "outputs": [],
   "source": [
    "from sklearn.feature_extraction.text import TfidfVectorizer\n",
    "\n",
    "vectorizer = TfidfVectorizer(max_features=5000)  # You can tweak this number\n",
    "X_train = vectorizer.fit_transform(train_df['text_clean'])\n",
    "X_test = vectorizer.transform(test_df['text_clean'])\n",
    "\n",
    "y_train = train_df['label']\n",
    "y_test = test_df['label']\n"
   ]
  },
  {
   "cell_type": "code",
   "execution_count": 19,
   "id": "03206b27",
   "metadata": {
    "execution": {
     "iopub.execute_input": "2025-06-02T15:01:00.593527Z",
     "iopub.status.busy": "2025-06-02T15:01:00.593235Z",
     "iopub.status.idle": "2025-06-02T15:02:51.551603Z",
     "shell.execute_reply": "2025-06-02T15:02:51.550637Z"
    },
    "papermill": {
     "duration": 110.97697,
     "end_time": "2025-06-02T15:02:51.561427",
     "exception": false,
     "start_time": "2025-06-02T15:01:00.584457",
     "status": "completed"
    },
    "tags": []
   },
   "outputs": [
    {
     "data": {
      "text/html": [
       "<style>#sk-container-id-1 {color: black;background-color: white;}#sk-container-id-1 pre{padding: 0;}#sk-container-id-1 div.sk-toggleable {background-color: white;}#sk-container-id-1 label.sk-toggleable__label {cursor: pointer;display: block;width: 100%;margin-bottom: 0;padding: 0.3em;box-sizing: border-box;text-align: center;}#sk-container-id-1 label.sk-toggleable__label-arrow:before {content: \"▸\";float: left;margin-right: 0.25em;color: #696969;}#sk-container-id-1 label.sk-toggleable__label-arrow:hover:before {color: black;}#sk-container-id-1 div.sk-estimator:hover label.sk-toggleable__label-arrow:before {color: black;}#sk-container-id-1 div.sk-toggleable__content {max-height: 0;max-width: 0;overflow: hidden;text-align: left;background-color: #f0f8ff;}#sk-container-id-1 div.sk-toggleable__content pre {margin: 0.2em;color: black;border-radius: 0.25em;background-color: #f0f8ff;}#sk-container-id-1 input.sk-toggleable__control:checked~div.sk-toggleable__content {max-height: 200px;max-width: 100%;overflow: auto;}#sk-container-id-1 input.sk-toggleable__control:checked~label.sk-toggleable__label-arrow:before {content: \"▾\";}#sk-container-id-1 div.sk-estimator input.sk-toggleable__control:checked~label.sk-toggleable__label {background-color: #d4ebff;}#sk-container-id-1 div.sk-label input.sk-toggleable__control:checked~label.sk-toggleable__label {background-color: #d4ebff;}#sk-container-id-1 input.sk-hidden--visually {border: 0;clip: rect(1px 1px 1px 1px);clip: rect(1px, 1px, 1px, 1px);height: 1px;margin: -1px;overflow: hidden;padding: 0;position: absolute;width: 1px;}#sk-container-id-1 div.sk-estimator {font-family: monospace;background-color: #f0f8ff;border: 1px dotted black;border-radius: 0.25em;box-sizing: border-box;margin-bottom: 0.5em;}#sk-container-id-1 div.sk-estimator:hover {background-color: #d4ebff;}#sk-container-id-1 div.sk-parallel-item::after {content: \"\";width: 100%;border-bottom: 1px solid gray;flex-grow: 1;}#sk-container-id-1 div.sk-label:hover label.sk-toggleable__label {background-color: #d4ebff;}#sk-container-id-1 div.sk-serial::before {content: \"\";position: absolute;border-left: 1px solid gray;box-sizing: border-box;top: 0;bottom: 0;left: 50%;z-index: 0;}#sk-container-id-1 div.sk-serial {display: flex;flex-direction: column;align-items: center;background-color: white;padding-right: 0.2em;padding-left: 0.2em;position: relative;}#sk-container-id-1 div.sk-item {position: relative;z-index: 1;}#sk-container-id-1 div.sk-parallel {display: flex;align-items: stretch;justify-content: center;background-color: white;position: relative;}#sk-container-id-1 div.sk-item::before, #sk-container-id-1 div.sk-parallel-item::before {content: \"\";position: absolute;border-left: 1px solid gray;box-sizing: border-box;top: 0;bottom: 0;left: 50%;z-index: -1;}#sk-container-id-1 div.sk-parallel-item {display: flex;flex-direction: column;z-index: 1;position: relative;background-color: white;}#sk-container-id-1 div.sk-parallel-item:first-child::after {align-self: flex-end;width: 50%;}#sk-container-id-1 div.sk-parallel-item:last-child::after {align-self: flex-start;width: 50%;}#sk-container-id-1 div.sk-parallel-item:only-child::after {width: 0;}#sk-container-id-1 div.sk-dashed-wrapped {border: 1px dashed gray;margin: 0 0.4em 0.5em 0.4em;box-sizing: border-box;padding-bottom: 0.4em;background-color: white;}#sk-container-id-1 div.sk-label label {font-family: monospace;font-weight: bold;display: inline-block;line-height: 1.2em;}#sk-container-id-1 div.sk-label-container {text-align: center;}#sk-container-id-1 div.sk-container {/* jupyter's `normalize.less` sets `[hidden] { display: none; }` but bootstrap.min.css set `[hidden] { display: none !important; }` so we also need the `!important` here to be able to override the default hidden behavior on the sphinx rendered scikit-learn.org. See: https://github.com/scikit-learn/scikit-learn/issues/21755 */display: inline-block !important;position: relative;}#sk-container-id-1 div.sk-text-repr-fallback {display: none;}</style><div id=\"sk-container-id-1\" class=\"sk-top-container\"><div class=\"sk-text-repr-fallback\"><pre>LogisticRegression(max_iter=1000)</pre><b>In a Jupyter environment, please rerun this cell to show the HTML representation or trust the notebook. <br />On GitHub, the HTML representation is unable to render, please try loading this page with nbviewer.org.</b></div><div class=\"sk-container\" hidden><div class=\"sk-item\"><div class=\"sk-estimator sk-toggleable\"><input class=\"sk-toggleable__control sk-hidden--visually\" id=\"sk-estimator-id-1\" type=\"checkbox\" checked><label for=\"sk-estimator-id-1\" class=\"sk-toggleable__label sk-toggleable__label-arrow\">LogisticRegression</label><div class=\"sk-toggleable__content\"><pre>LogisticRegression(max_iter=1000)</pre></div></div></div></div></div>"
      ],
      "text/plain": [
       "LogisticRegression(max_iter=1000)"
      ]
     },
     "execution_count": 19,
     "metadata": {},
     "output_type": "execute_result"
    }
   ],
   "source": [
    "model = LogisticRegression(max_iter=1000)\n",
    "model.fit(X_train, y_train)"
   ]
  },
  {
   "cell_type": "code",
   "execution_count": 20,
   "id": "036c83bd",
   "metadata": {
    "execution": {
     "iopub.execute_input": "2025-06-02T15:02:51.579379Z",
     "iopub.status.busy": "2025-06-02T15:02:51.578508Z",
     "iopub.status.idle": "2025-06-02T15:03:11.991111Z",
     "shell.execute_reply": "2025-06-02T15:03:11.989853Z"
    },
    "papermill": {
     "duration": 20.423363,
     "end_time": "2025-06-02T15:03:11.992752",
     "exception": false,
     "start_time": "2025-06-02T15:02:51.569389",
     "status": "completed"
    },
    "tags": []
   },
   "outputs": [
    {
     "name": "stdout",
     "output_type": "stream",
     "text": [
      "Accuracy: 0.8979875\n",
      "\n",
      "Classification Report:\n",
      "               precision    recall  f1-score   support\n",
      "\n",
      "    negative       0.90      0.90      0.90    200000\n",
      "    positive       0.90      0.90      0.90    200000\n",
      "\n",
      "    accuracy                           0.90    400000\n",
      "   macro avg       0.90      0.90      0.90    400000\n",
      "weighted avg       0.90      0.90      0.90    400000\n",
      "\n"
     ]
    }
   ],
   "source": [
    "y_pred = model.predict(X_test)\n",
    "\n",
    "logreg_acc=accuracy_score(y_test, y_pred)\n",
    "print(\"Accuracy:\",logreg_acc )\n",
    "print(\"\\nClassification Report:\\n\", classification_report(y_test, y_pred))\n"
   ]
  },
  {
   "cell_type": "code",
   "execution_count": 21,
   "id": "4c6fbf56",
   "metadata": {
    "execution": {
     "iopub.execute_input": "2025-06-02T15:03:12.010502Z",
     "iopub.status.busy": "2025-06-02T15:03:12.010177Z",
     "iopub.status.idle": "2025-06-02T15:03:14.261989Z",
     "shell.execute_reply": "2025-06-02T15:03:14.260933Z"
    },
    "papermill": {
     "duration": 2.262615,
     "end_time": "2025-06-02T15:03:14.263655",
     "exception": false,
     "start_time": "2025-06-02T15:03:12.001040",
     "status": "completed"
    },
    "tags": []
   },
   "outputs": [
    {
     "data": {
      "image/png": "[encoded data removed]",
      "text/plain": [
       "<Figure size 640x480 with 2 Axes>"
      ]
     },
     "metadata": {},
     "output_type": "display_data"
    }
   ],
   "source": [
    "import seaborn as sns\n",
    "import matplotlib.pyplot as plt\n",
    "\n",
    "cm = confusion_matrix(y_test, y_pred, labels=['positive', 'negative'])\n",
    "sns.heatmap(cm, annot=True, fmt='d', cmap='Blues', xticklabels=['positive', 'negative'], yticklabels=['positive', 'negative'])\n",
    "plt.xlabel('Predicted')\n",
    "plt.ylabel('Actual')\n",
    "plt.title('Confusion Matrix')\n",
    "plt.show()\n"
   ]
  },
  {
   "cell_type": "code",
   "execution_count": 22,
   "id": "6a85c824",
   "metadata": {
    "execution": {
     "iopub.execute_input": "2025-06-02T15:03:14.283317Z",
     "iopub.status.busy": "2025-06-02T15:03:14.282847Z",
     "iopub.status.idle": "2025-06-02T15:03:14.287098Z",
     "shell.execute_reply": "2025-06-02T15:03:14.286372Z"
    },
    "papermill": {
     "duration": 0.015497,
     "end_time": "2025-06-02T15:03:14.288468",
     "exception": false,
     "start_time": "2025-06-02T15:03:14.272971",
     "status": "completed"
    },
    "tags": []
   },
   "outputs": [],
   "source": [
    "# from sklearn.linear_model import LogisticRegression\n",
    "# from sklearn.model_selection import GridSearchCV\n",
    "\n",
    "# param_grid = {\n",
    "#     'C': [0.01, 0.1, 1, 10, 100],\n",
    "#     'penalty': ['l1', 'l2'],\n",
    "#     'solver': ['liblinear']  # for L1 support\n",
    "# }\n",
    "# model = LogisticRegression(max_iter=1000)\n",
    "# grid = GridSearchCV(model, param_grid, cv=5, scoring='accuracy')\n",
    "# grid.fit(X_train, y_train)\n",
    "\n",
    "# print(\"Best Parameters:\", grid.best_params_)\n",
    "# print(\"Best Accuracy:\", grid.best_score_)\n"
   ]
  },
  {
   "cell_type": "code",
   "execution_count": 23,
   "id": "cc61d2bc",
   "metadata": {
    "execution": {
     "iopub.execute_input": "2025-06-02T15:03:14.307012Z",
     "iopub.status.busy": "2025-06-02T15:03:14.306659Z",
     "iopub.status.idle": "2025-06-02T15:03:14.310857Z",
     "shell.execute_reply": "2025-06-02T15:03:14.309934Z"
    },
    "papermill": {
     "duration": 0.015739,
     "end_time": "2025-06-02T15:03:14.312788",
     "exception": false,
     "start_time": "2025-06-02T15:03:14.297049",
     "status": "completed"
    },
    "tags": []
   },
   "outputs": [],
   "source": [
    "# # Predict on the test set\n",
    "# y_pred = best_model.predict(X_test)\n",
    "\n",
    "# # Generate evaluation metrics\n",
    "# conf_matrix = confusion_matrix(y_test, y_pred)\n",
    "# class_report = classification_report(y_test, y_pred)\n",
    "# accuracy = accuracy_score(y_test, y_pred)\n",
    "\n",
    "# conf_matrix, class_report, accuracy"
   ]
  },
  {
   "cell_type": "markdown",
   "id": "2abc2bba",
   "metadata": {
    "papermill": {
     "duration": 0.009285,
     "end_time": "2025-06-02T15:03:14.330942",
     "exception": false,
     "start_time": "2025-06-02T15:03:14.321657",
     "status": "completed"
    },
    "tags": []
   },
   "source": [
    "## Predicting "
   ]
  },
  {
   "cell_type": "code",
   "execution_count": 24,
   "id": "80cb1d00",
   "metadata": {
    "execution": {
     "iopub.execute_input": "2025-06-02T15:03:14.351619Z",
     "iopub.status.busy": "2025-06-02T15:03:14.351303Z",
     "iopub.status.idle": "2025-06-02T15:03:14.357197Z",
     "shell.execute_reply": "2025-06-02T15:03:14.356231Z"
    },
    "papermill": {
     "duration": 0.017818,
     "end_time": "2025-06-02T15:03:14.358609",
     "exception": false,
     "start_time": "2025-06-02T15:03:14.340791",
     "status": "completed"
    },
    "tags": []
   },
   "outputs": [],
   "source": [
    "def predict_sentiment(text):\n",
    "    # Clean input\n",
    "    cleaned = re.sub(r\"[^a-zA-Z\\s]\", '', text)\n",
    "    cleaned = cleaned.lower().strip()\n",
    "    cleaned = ' '.join([word for word in cleaned.split() if word not in sw])\n",
    "    \n",
    "    # Vectorize and predict\n",
    "    vec = vectorizer.transform([cleaned])\n",
    "    prediction = model.predict(vec)[0]\n",
    "    return prediction"
   ]
  },
  {
   "cell_type": "markdown",
   "id": "b22e10ed",
   "metadata": {
    "papermill": {
     "duration": 0.008373,
     "end_time": "2025-06-02T15:03:14.375782",
     "exception": false,
     "start_time": "2025-06-02T15:03:14.367409",
     "status": "completed"
    },
    "tags": []
   },
   "source": [
    "### Testing Predictions live"
   ]
  },
  {
   "cell_type": "code",
   "execution_count": 25,
   "id": "5250f8c5",
   "metadata": {
    "execution": {
     "iopub.execute_input": "2025-06-02T15:03:14.394662Z",
     "iopub.status.busy": "2025-06-02T15:03:14.393720Z",
     "iopub.status.idle": "2025-06-02T15:03:14.397726Z",
     "shell.execute_reply": "2025-06-02T15:03:14.396972Z"
    },
    "papermill": {
     "duration": 0.0149,
     "end_time": "2025-06-02T15:03:14.399282",
     "exception": false,
     "start_time": "2025-06-02T15:03:14.384382",
     "status": "completed"
    },
    "tags": []
   },
   "outputs": [],
   "source": [
    "\n",
    "# while True:\n",
    "#     user_input = input(\"Enter a review: \")\n",
    "#     if user_input.lower() == 'exit':\n",
    "#         break\n",
    "#     print(\"Predicted sentiment:\", predict_sentiment(user_input))\n"
   ]
  },
  {
   "cell_type": "code",
   "execution_count": 26,
   "id": "90e4b61c",
   "metadata": {
    "execution": {
     "iopub.execute_input": "2025-06-02T15:03:14.417703Z",
     "iopub.status.busy": "2025-06-02T15:03:14.417423Z",
     "iopub.status.idle": "2025-06-02T15:03:14.421820Z",
     "shell.execute_reply": "2025-06-02T15:03:14.420936Z"
    },
    "jupyter": {
     "source_hidden": true
    },
    "papermill": {
     "duration": 0.015543,
     "end_time": "2025-06-02T15:03:14.423578",
     "exception": false,
     "start_time": "2025-06-02T15:03:14.408035",
     "status": "completed"
    },
    "tags": []
   },
   "outputs": [],
   "source": [
    "# from sklearn.naive_bayes import MultinomialNB\n",
    "# from sklearn.svm import LinearSVC\n",
    "# from sklearn.ensemble import RandomForestClassifier\n",
    "# from sklearn.neural_network import MLPClassifier\n",
    "# from sklearn.metrics import accuracy_score, classification_report\n",
    "\n",
    "# models = {\n",
    "#     'Logistic Regression': LogisticRegression(max_iter=1000),\n",
    "#     'Naive Bayes': MultinomialNB(),\n",
    "#     'Linear SVM': LinearSVC(),\n",
    "#     'Random Forest': RandomForestClassifier(n_estimators=100),\n",
    "#     'MLP (Neural Net)': MLPClassifier(hidden_layer_sizes=(100,), max_iter=300)\n",
    "# }\n",
    "\n",
    "# results = {}\n",
    "\n",
    "# for name, model in models.items():\n",
    "#     model.fit(X_train, y_train)\n",
    "#     preds = model.predict(X_test)\n",
    "#     acc = accuracy_score(y_test, preds)\n",
    "#     results[name] = acc\n",
    "#     print(f\"\\n{name} Accuracy: {acc:.4f}\")\n",
    "#     print(classification_report(y_test, preds))\n"
   ]
  },
  {
   "cell_type": "code",
   "execution_count": 27,
   "id": "68bdb747",
   "metadata": {
    "execution": {
     "iopub.execute_input": "2025-06-02T15:03:14.443494Z",
     "iopub.status.busy": "2025-06-02T15:03:14.443215Z",
     "iopub.status.idle": "2025-06-02T15:03:15.592378Z",
     "shell.execute_reply": "2025-06-02T15:03:15.591469Z"
    },
    "papermill": {
     "duration": 1.160696,
     "end_time": "2025-06-02T15:03:15.594164",
     "exception": false,
     "start_time": "2025-06-02T15:03:14.433468",
     "status": "completed"
    },
    "tags": []
   },
   "outputs": [],
   "source": [
    "import pickle\n",
    "\n",
    "# Save the model\n",
    "with open('logistic_regression_model.pkl', 'wb') as model_file:\n",
    "    pickle.dump(model, model_file)\n",
    "\n",
    "# Save the vectorizer\n",
    "with open('tfidf_vectorizer.pkl', 'wb') as vec_file:\n",
    "    pickle.dump(vectorizer, vec_file)\n"
   ]
  },
  {
   "cell_type": "code",
   "execution_count": 28,
   "id": "41ebb58a",
   "metadata": {
    "execution": {
     "iopub.execute_input": "2025-06-02T15:03:15.613049Z",
     "iopub.status.busy": "2025-06-02T15:03:15.612707Z",
     "iopub.status.idle": "2025-06-02T15:03:16.312525Z",
     "shell.execute_reply": "2025-06-02T15:03:16.311607Z"
    },
    "papermill": {
     "duration": 0.711198,
     "end_time": "2025-06-02T15:03:16.314207",
     "exception": false,
     "start_time": "2025-06-02T15:03:15.603009",
     "status": "completed"
    },
    "tags": []
   },
   "outputs": [],
   "source": [
    "# Load the model\n",
    "with open('logistic_regression_model.pkl', 'rb') as model_file:\n",
    "    model = pickle.load(model_file)\n",
    "\n",
    "# Load the vectorizer\n",
    "with open('tfidf_vectorizer.pkl', 'rb') as vec_file:\n",
    "    vectorizer = pickle.load(vec_file)\n"
   ]
  },
  {
   "cell_type": "markdown",
   "id": "6c74e71d",
   "metadata": {
    "papermill": {
     "duration": 0.008305,
     "end_time": "2025-06-02T15:03:16.331405",
     "exception": false,
     "start_time": "2025-06-02T15:03:16.323100",
     "status": "completed"
    },
    "tags": []
   },
   "source": [
    "# UNSUPERVISED"
   ]
  },
  {
   "cell_type": "code",
   "execution_count": 29,
   "id": "7cfa690e",
   "metadata": {
    "execution": {
     "iopub.execute_input": "2025-06-02T15:03:16.350115Z",
     "iopub.status.busy": "2025-06-02T15:03:16.349764Z",
     "iopub.status.idle": "2025-06-02T15:03:21.866285Z",
     "shell.execute_reply": "2025-06-02T15:03:21.865032Z"
    },
    "papermill": {
     "duration": 5.527807,
     "end_time": "2025-06-02T15:03:21.867971",
     "exception": false,
     "start_time": "2025-06-02T15:03:16.340164",
     "status": "completed"
    },
    "tags": []
   },
   "outputs": [
    {
     "name": "stdout",
     "output_type": "stream",
     "text": [
      "Requirement already satisfied: nltk in /usr/local/lib/python3.11/dist-packages (3.9.1)\r\n",
      "Requirement already satisfied: click in /usr/local/lib/python3.11/dist-packages (from nltk) (8.1.8)\r\n",
      "Requirement already satisfied: joblib in /usr/local/lib/python3.11/dist-packages (from nltk) (1.4.2)\r\n",
      "Requirement already satisfied: regex>=2021.8.3 in /usr/local/lib/python3.11/dist-packages (from nltk) (2024.11.6)\r\n",
      "Requirement already satisfied: tqdm in /usr/local/lib/python3.11/dist-packages (from nltk) (4.67.1)\r\n"
     ]
    },
    {
     "name": "stderr",
     "output_type": "stream",
     "text": [
      "[nltk_data] Downloading package vader_lexicon to\n",
      "[nltk_data]     /usr/share/nltk_data...\n",
      "[nltk_data]   Package vader_lexicon is already up-to-date!\n"
     ]
    }
   ],
   "source": [
    "# Install if needed\n",
    "!pip install nltk\n",
    "\n",
    "# Import\n",
    "import nltk\n",
    "nltk.download('vader_lexicon')\n",
    "\n",
    "from nltk.sentiment import SentimentIntensityAnalyzer\n",
    "\n",
    "# Initialize\n",
    "vader = SentimentIntensityAnalyzer()\n"
   ]
  },
  {
   "cell_type": "markdown",
   "id": "887041db",
   "metadata": {
    "papermill": {
     "duration": 0.008556,
     "end_time": "2025-06-02T15:03:21.886042",
     "exception": false,
     "start_time": "2025-06-02T15:03:21.877486",
     "status": "completed"
    },
    "tags": []
   },
   "source": [
    "## Apply VADER to Text\n",
    "#### You take each review and get its compound score (ranges from -1 to 1)."
   ]
  },
  {
   "cell_type": "code",
   "execution_count": 30,
   "id": "4f822cb3",
   "metadata": {
    "execution": {
     "iopub.execute_input": "2025-06-02T15:03:21.905610Z",
     "iopub.status.busy": "2025-06-02T15:03:21.905306Z",
     "iopub.status.idle": "2025-06-02T15:03:21.910093Z",
     "shell.execute_reply": "2025-06-02T15:03:21.909213Z"
    },
    "papermill": {
     "duration": 0.016185,
     "end_time": "2025-06-02T15:03:21.911576",
     "exception": false,
     "start_time": "2025-06-02T15:03:21.895391",
     "status": "completed"
    },
    "tags": []
   },
   "outputs": [],
   "source": [
    "def vader_sentiment(text):\n",
    "    scores = vader.polarity_scores(text)\n",
    "    compound_score = scores['compound']\n",
    "    return compound_score\n"
   ]
  },
  {
   "cell_type": "code",
   "execution_count": 31,
   "id": "b2f905a4",
   "metadata": {
    "execution": {
     "iopub.execute_input": "2025-06-02T15:03:21.931510Z",
     "iopub.status.busy": "2025-06-02T15:03:21.931223Z",
     "iopub.status.idle": "2025-06-02T15:03:21.936460Z",
     "shell.execute_reply": "2025-06-02T15:03:21.935406Z"
    },
    "papermill": {
     "duration": 0.017623,
     "end_time": "2025-06-02T15:03:21.938209",
     "exception": false,
     "start_time": "2025-06-02T15:03:21.920586",
     "status": "completed"
    },
    "tags": []
   },
   "outputs": [],
   "source": [
    "def classify_sentiment_vader(text):\n",
    "    score = vader_sentiment(text)\n",
    "    if score >= 0:\n",
    "        return 1   # Positive\n",
    "    else:\n",
    "        return 0   # Negative\n"
   ]
  },
  {
   "cell_type": "markdown",
   "id": "9ca42f09",
   "metadata": {
    "papermill": {
     "duration": 0.008849,
     "end_time": "2025-06-02T15:03:21.956308",
     "exception": false,
     "start_time": "2025-06-02T15:03:21.947459",
     "status": "completed"
    },
    "tags": []
   },
   "source": [
    "#### Now, you can apply this classify_sentiment_vader() function to all your reviews!"
   ]
  },
  {
   "cell_type": "code",
   "execution_count": 32,
   "id": "9bf75fa4",
   "metadata": {
    "execution": {
     "iopub.execute_input": "2025-06-02T15:03:21.975291Z",
     "iopub.status.busy": "2025-06-02T15:03:21.974969Z",
     "iopub.status.idle": "2025-06-02T15:08:00.980717Z",
     "shell.execute_reply": "2025-06-02T15:08:00.979706Z"
    },
    "papermill": {
     "duration": 279.017514,
     "end_time": "2025-06-02T15:08:00.982771",
     "exception": false,
     "start_time": "2025-06-02T15:03:21.965257",
     "status": "completed"
    },
    "tags": []
   },
   "outputs": [],
   "source": [
    "# Apply VADER classifier\n",
    "test_df['vader_prediction'] = test_df['text'].apply(classify_sentiment_vader)\n"
   ]
  },
  {
   "cell_type": "code",
   "execution_count": 33,
   "id": "47490e2e",
   "metadata": {
    "execution": {
     "iopub.execute_input": "2025-06-02T15:08:01.002567Z",
     "iopub.status.busy": "2025-06-02T15:08:01.002254Z",
     "iopub.status.idle": "2025-06-02T15:08:01.043358Z",
     "shell.execute_reply": "2025-06-02T15:08:01.042584Z"
    },
    "papermill": {
     "duration": 0.05278,
     "end_time": "2025-06-02T15:08:01.044940",
     "exception": false,
     "start_time": "2025-06-02T15:08:00.992160",
     "status": "completed"
    },
    "tags": []
   },
   "outputs": [],
   "source": [
    "label_map = {1: 'positive', 0: 'negative'}\n",
    "test_df['vader_prediction'] = test_df['vader_prediction'].map(label_map)\n"
   ]
  },
  {
   "cell_type": "code",
   "execution_count": 34,
   "id": "5ea185a6",
   "metadata": {
    "execution": {
     "iopub.execute_input": "2025-06-02T15:08:01.063749Z",
     "iopub.status.busy": "2025-06-02T15:08:01.063453Z",
     "iopub.status.idle": "2025-06-02T15:08:02.072222Z",
     "shell.execute_reply": "2025-06-02T15:08:02.071174Z"
    },
    "papermill": {
     "duration": 1.019914,
     "end_time": "2025-06-02T15:08:02.073655",
     "exception": false,
     "start_time": "2025-06-02T15:08:01.053741",
     "status": "completed"
    },
    "tags": []
   },
   "outputs": [
    {
     "name": "stdout",
     "output_type": "stream",
     "text": [
      "VADER Accuracy: 0.7115\n"
     ]
    }
   ],
   "source": [
    "from sklearn.metrics import accuracy_score\n",
    "\n",
    "# Compare VADER prediction with true labels\n",
    "vader_acc = accuracy_score(test_df['label'], test_df['vader_prediction'])\n",
    "\n",
    "print(f\"VADER Accuracy: {vader_acc:.4f}\")\n"
   ]
  },
  {
   "cell_type": "code",
   "execution_count": 35,
   "id": "ff86dbe5",
   "metadata": {
    "execution": {
     "iopub.execute_input": "2025-06-02T15:08:02.092452Z",
     "iopub.status.busy": "2025-06-02T15:08:02.092186Z",
     "iopub.status.idle": "2025-06-02T15:08:04.395981Z",
     "shell.execute_reply": "2025-06-02T15:08:04.394830Z"
    },
    "jupyter": {
     "source_hidden": true
    },
    "papermill": {
     "duration": 2.315282,
     "end_time": "2025-06-02T15:08:04.397940",
     "exception": false,
     "start_time": "2025-06-02T15:08:02.082658",
     "status": "completed"
    },
    "tags": []
   },
   "outputs": [
    {
     "data": {
      "image/png": "[encoded data removed]",
      "text/plain": [
       "<Figure size 640x480 with 2 Axes>"
      ]
     },
     "metadata": {},
     "output_type": "display_data"
    }
   ],
   "source": [
    "from sklearn.metrics import confusion_matrix, ConfusionMatrixDisplay\n",
    "import matplotlib.pyplot as plt\n",
    "\n",
    "# 1. Compute the confusion matrix\n",
    "vader_cm = confusion_matrix(test_df['label'], test_df['vader_prediction'])\n",
    "\n",
    "# 2. Display it nicely\n",
    "disp = ConfusionMatrixDisplay(confusion_matrix=vader_cm, display_labels=['Negative', 'Positive'])\n",
    "disp.plot(cmap='Blues')\n",
    "plt.title('VADER Confusion Matrix')\n",
    "plt.show()\n"
   ]
  },
  {
   "cell_type": "markdown",
   "id": "b9abce15",
   "metadata": {
    "papermill": {
     "duration": 0.009704,
     "end_time": "2025-06-02T15:08:04.418028",
     "exception": false,
     "start_time": "2025-06-02T15:08:04.408324",
     "status": "completed"
    },
    "tags": []
   },
   "source": []
  },
  {
   "cell_type": "code",
   "execution_count": 36,
   "id": "2b1f947b",
   "metadata": {
    "execution": {
     "iopub.execute_input": "2025-06-02T15:08:04.439244Z",
     "iopub.status.busy": "2025-06-02T15:08:04.438956Z",
     "iopub.status.idle": "2025-06-02T15:08:04.443396Z",
     "shell.execute_reply": "2025-06-02T15:08:04.442497Z"
    },
    "papermill": {
     "duration": 0.016736,
     "end_time": "2025-06-02T15:08:04.444975",
     "exception": false,
     "start_time": "2025-06-02T15:08:04.428239",
     "status": "completed"
    },
    "tags": []
   },
   "outputs": [],
   "source": [
    "# from nltk.sentiment import SentimentIntensityAnalyzer\n",
    "\n",
    "# # Initialize VADER\n",
    "# sia = SentimentIntensityAnalyzer()\n",
    "\n",
    "# print(\"Type a sentence to analyze sentiment (type 'exit' to quit):\")\n",
    "\n",
    "# while True:\n",
    "#     text = input(\"\\nYour input: \")\n",
    "#     if text.lower() == 'exit':\n",
    "#         break\n",
    "    \n",
    "#     scores = sia.polarity_scores(text)\n",
    "#     compound = scores['compound']\n",
    "\n",
    "#     # Simple rules to interpret compound score\n",
    "#     if compound >= 0.05:\n",
    "#         sentiment = \"Positive 😀\"\n",
    "#     elif compound <= -0.05:\n",
    "#         sentiment = \"Negative 😞\"\n",
    "#     else:\n",
    "#         sentiment = \"Neutral 😐\"\n",
    "\n",
    "#     print(f\"Sentiment: {sentiment}\")\n",
    "#     print(f\"Detailed Scores: {scores}\")\n"
   ]
  },
  {
   "cell_type": "code",
   "execution_count": 37,
   "id": "c1f699b0",
   "metadata": {
    "execution": {
     "iopub.execute_input": "2025-06-02T15:08:04.465947Z",
     "iopub.status.busy": "2025-06-02T15:08:04.465609Z",
     "iopub.status.idle": "2025-06-02T15:08:04.613051Z",
     "shell.execute_reply": "2025-06-02T15:08:04.612006Z"
    },
    "papermill": {
     "duration": 0.159787,
     "end_time": "2025-06-02T15:08:04.614592",
     "exception": false,
     "start_time": "2025-06-02T15:08:04.454805",
     "status": "completed"
    },
    "tags": []
   },
   "outputs": [
    {
     "data": {
      "image/png": "[encoded data removed]",
      "text/plain": [
       "<Figure size 800x500 with 1 Axes>"
      ]
     },
     "metadata": {},
     "output_type": "display_data"
    }
   ],
   "source": [
    "import matplotlib.pyplot as plt\n",
    "\n",
    "# Model names and their corresponding accuracies\n",
    "models = ['Logistic Regression', 'VADER']\n",
    "accuracies = [logreg_acc, vader_acc]\n",
    "\n",
    "# Create the bar plot\n",
    "plt.figure(figsize=(8,5))\n",
    "bars = plt.bar(models, accuracies, color=['skyblue', 'lightcoral'])\n",
    "plt.ylim(0, 1)  # Accuracy goes from 0 to 1\n",
    "plt.title('Model Accuracy Comparison', fontsize=16)\n",
    "plt.ylabel('Accuracy', fontsize=14)\n",
    "\n",
    "# Add value labels on top of bars\n",
    "for bar in bars:\n",
    "    yval = bar.get_height()\n",
    "    plt.text(bar.get_x() + bar.get_width()/2.0, yval + 0.02, f'{yval:.2f}', ha='center', fontsize=12)\n",
    "\n",
    "plt.show()\n"
   ]
  }
 ],
 "metadata": {
  "kaggle": {
   "accelerator": "none",
   "dataSources": [
    {
     "datasetId": 1305,
     "sourceId": 800230,
     "sourceType": "datasetVersion"
    },
    {
     "datasetId": 7239584,
     "sourceId": 11544192,
     "sourceType": "datasetVersion"
    }
   ],
   "dockerImageVersionId": 31012,
   "isGpuEnabled": false,
   "isInternetEnabled": true,
   "language": "python",
   "sourceType": "notebook"
  },
  "kernelspec": {
   "display_name": "Python 3",
   "language": "python",
   "name": "python3"
  },
  "language_info": {
   "codemirror_mode": {
    "name": "ipython",
    "version": 3
   },
   "file_extension": ".py",
   "mimetype": "text/x-python",
   "name": "python",
   "nbconvert_exporter": "python",
   "pygments_lexer": "ipython3",
   "version": "3.11.11"
  },
  "papermill": {
   "default_parameters": {},
   "duration": 1497.173632,
   "end_time": "2025-06-02T15:08:08.354123",
   "environment_variables": {},
   "exception": null,
   "input_path": "__notebook__.ipynb",
   "output_path": "__notebook__.ipynb",
   "parameters": {},
   "start_time": "2025-06-02T14:43:11.180491",
   "version": "2.6.0"
  }
 },
 "nbformat": 4,
 "nbformat_minor": 5
}
