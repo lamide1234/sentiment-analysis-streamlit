{
 "cells": [
  {
   "cell_type": "code",
   "execution_count": 1,
   "id": "cb7af296",
   "metadata": {
    "_cell_guid": "b1076dfc-b9ad-4769-8c92-a6c4dae69d19",
    "_uuid": "8f2839f25d086af736a60e9eeb907d3b93b6e0e5",
    "execution": {
     "iopub.execute_input": "2025-04-24T23:09:26.693807Z",
     "iopub.status.busy": "2025-04-24T23:09:26.693424Z",
     "iopub.status.idle": "2025-04-24T23:09:28.612199Z",
     "shell.execute_reply": "2025-04-24T23:09:28.611023Z"
    },
    "papermill": {
     "duration": 1.927357,
     "end_time": "2025-04-24T23:09:28.613814",
     "exception": false,
     "start_time": "2025-04-24T23:09:26.686457",
     "status": "completed"
    },
    "tags": []
   },
   "outputs": [
    {
     "name": "stdout",
     "output_type": "stream",
     "text": [
      "/kaggle/input/amazonreviews/test.ft.txt.bz2\n",
      "/kaggle/input/amazonreviews/train.ft.txt.bz2\n",
      "/kaggle/input/amazon-reviews/train.csv\n",
      "/kaggle/input/amazon-reviews/test.csv\n"
     ]
    }
   ],
   "source": [
    "# This Python 3 environment comes with many helpful analytics libraries installed\n",
    "# It is defined by the kaggle/python Docker image: https://github.com/kaggle/docker-python\n",
    "# For example, here's several helpful packages to load\n",
    "\n",
    "import numpy as np # linear algebra\n",
    "import pandas as pd # data processing, CSV file I/O (e.g. pd.read_csv)\n",
    "\n",
    "# Input data files are available in the read-only \"../input/\" directory\n",
    "# For example, running this (by clicking run or pressing Shift+Enter) will list all files under the input directory\n",
    "\n",
    "import os\n",
    "for dirname, _, filenames in os.walk('/kaggle/input'):\n",
    "    for filename in filenames:\n",
    "        print(os.path.join(dirname, filename))\n",
    "\n",
    "# You can write up to 20GB to the current directory (/kaggle/working/) that gets preserved as output when you create a version using \"Save & Run All\" \n",
    "# You can also write temporary files to /kaggle/temp/, but they won't be saved outside of the current session"
   ]
  },
  {
   "cell_type": "code",
   "execution_count": 2,
   "id": "97ed8620",
   "metadata": {
    "execution": {
     "iopub.execute_input": "2025-04-24T23:09:28.625099Z",
     "iopub.status.busy": "2025-04-24T23:09:28.624628Z",
     "iopub.status.idle": "2025-04-24T23:10:03.288956Z",
     "shell.execute_reply": "2025-04-24T23:10:03.287886Z"
    },
    "papermill": {
     "duration": 34.676713,
     "end_time": "2025-04-24T23:10:03.295613",
     "exception": false,
     "start_time": "2025-04-24T23:09:28.618900",
     "status": "completed"
    },
    "tags": []
   },
   "outputs": [
    {
     "name": "stderr",
     "output_type": "stream",
     "text": [
      "[nltk_data] Error loading stopwords: <urlopen error [Errno -3]\n",
      "[nltk_data]     Temporary failure in name resolution>\n"
     ]
    }
   ],
   "source": [
    "import pandas as pd\n",
    "import nltk\n",
    "from nltk.corpus import stopwords\n",
    "nltk.download('stopwords')\n",
    "import sklearn\n",
    "from sklearn.linear_model import LogisticRegression\n",
    "from sklearn.metrics import classification_report, confusion_matrix, accuracy_score\n",
    "import re"
   ]
  },
  {
   "cell_type": "code",
   "execution_count": 3,
   "id": "2197b7cc",
   "metadata": {
    "execution": {
     "iopub.execute_input": "2025-04-24T23:10:03.308060Z",
     "iopub.status.busy": "2025-04-24T23:10:03.307516Z",
     "iopub.status.idle": "2025-04-24T23:10:45.755143Z",
     "shell.execute_reply": "2025-04-24T23:10:45.753944Z"
    },
    "papermill": {
     "duration": 42.455669,
     "end_time": "2025-04-24T23:10:45.756819",
     "exception": false,
     "start_time": "2025-04-24T23:10:03.301150",
     "status": "completed"
    },
    "tags": []
   },
   "outputs": [],
   "source": [
    "train_df = pd.read_csv('/kaggle/input/amazon-reviews/train.csv') \n",
    "test_df= pd.read_csv('/kaggle/input/amazon-reviews/test.csv')"
   ]
  },
  {
   "cell_type": "code",
   "execution_count": 4,
   "id": "5607ebbe",
   "metadata": {
    "execution": {
     "iopub.execute_input": "2025-04-24T23:10:45.768498Z",
     "iopub.status.busy": "2025-04-24T23:10:45.767570Z",
     "iopub.status.idle": "2025-04-24T23:10:45.772165Z",
     "shell.execute_reply": "2025-04-24T23:10:45.771258Z"
    },
    "papermill": {
     "duration": 0.011822,
     "end_time": "2025-04-24T23:10:45.773762",
     "exception": false,
     "start_time": "2025-04-24T23:10:45.761940",
     "status": "completed"
    },
    "tags": []
   },
   "outputs": [],
   "source": [
    "# nltk.data.path.append('/kaggle/input/YOUR-UPLOADED-NLTK-DATA/nltk_data')\n"
   ]
  },
  {
   "cell_type": "code",
   "execution_count": 5,
   "id": "0ee76a44",
   "metadata": {
    "execution": {
     "iopub.execute_input": "2025-04-24T23:10:45.784771Z",
     "iopub.status.busy": "2025-04-24T23:10:45.784430Z",
     "iopub.status.idle": "2025-04-24T23:10:45.808002Z",
     "shell.execute_reply": "2025-04-24T23:10:45.807222Z"
    },
    "papermill": {
     "duration": 0.030757,
     "end_time": "2025-04-24T23:10:45.809598",
     "exception": false,
     "start_time": "2025-04-24T23:10:45.778841",
     "status": "completed"
    },
    "tags": []
   },
   "outputs": [
    {
     "data": {
      "text/html": [
       "<div>\n",
       "<style scoped>\n",
       "    .dataframe tbody tr th:only-of-type {\n",
       "        vertical-align: middle;\n",
       "    }\n",
       "\n",
       "    .dataframe tbody tr th {\n",
       "        vertical-align: top;\n",
       "    }\n",
       "\n",
       "    .dataframe thead th {\n",
       "        text-align: right;\n",
       "    }\n",
       "</style>\n",
       "<table border=\"1\" class=\"dataframe\">\n",
       "  <thead>\n",
       "    <tr style=\"text-align: right;\">\n",
       "      <th></th>\n",
       "      <th>label</th>\n",
       "      <th>text</th>\n",
       "    </tr>\n",
       "  </thead>\n",
       "  <tbody>\n",
       "    <tr>\n",
       "      <th>0</th>\n",
       "      <td>positive</td>\n",
       "      <td>Stuning even for the non-gamer: This sound tra...</td>\n",
       "    </tr>\n",
       "    <tr>\n",
       "      <th>1</th>\n",
       "      <td>positive</td>\n",
       "      <td>The best soundtrack ever to anything.: I'm rea...</td>\n",
       "    </tr>\n",
       "    <tr>\n",
       "      <th>2</th>\n",
       "      <td>positive</td>\n",
       "      <td>Amazing!: This soundtrack is my favorite music...</td>\n",
       "    </tr>\n",
       "    <tr>\n",
       "      <th>3</th>\n",
       "      <td>positive</td>\n",
       "      <td>Excellent Soundtrack: I truly like this soundt...</td>\n",
       "    </tr>\n",
       "    <tr>\n",
       "      <th>4</th>\n",
       "      <td>positive</td>\n",
       "      <td>Remember, Pull Your Jaw Off The Floor After He...</td>\n",
       "    </tr>\n",
       "  </tbody>\n",
       "</table>\n",
       "</div>"
      ],
      "text/plain": [
       "      label                                               text\n",
       "0  positive  Stuning even for the non-gamer: This sound tra...\n",
       "1  positive  The best soundtrack ever to anything.: I'm rea...\n",
       "2  positive  Amazing!: This soundtrack is my favorite music...\n",
       "3  positive  Excellent Soundtrack: I truly like this soundt...\n",
       "4  positive  Remember, Pull Your Jaw Off The Floor After He..."
      ]
     },
     "execution_count": 5,
     "metadata": {},
     "output_type": "execute_result"
    }
   ],
   "source": [
    "train_df.head()\n"
   ]
  },
  {
   "cell_type": "code",
   "execution_count": 6,
   "id": "82cae719",
   "metadata": {
    "execution": {
     "iopub.execute_input": "2025-04-24T23:10:45.821453Z",
     "iopub.status.busy": "2025-04-24T23:10:45.820613Z",
     "iopub.status.idle": "2025-04-24T23:10:45.828380Z",
     "shell.execute_reply": "2025-04-24T23:10:45.827512Z"
    },
    "papermill": {
     "duration": 0.014745,
     "end_time": "2025-04-24T23:10:45.829633",
     "exception": false,
     "start_time": "2025-04-24T23:10:45.814888",
     "status": "completed"
    },
    "tags": []
   },
   "outputs": [
    {
     "data": {
      "text/plain": [
       "Index(['label', 'text'], dtype='object')"
      ]
     },
     "execution_count": 6,
     "metadata": {},
     "output_type": "execute_result"
    }
   ],
   "source": [
    "train_df.columns"
   ]
  },
  {
   "cell_type": "code",
   "execution_count": 7,
   "id": "c816703c",
   "metadata": {
    "execution": {
     "iopub.execute_input": "2025-04-24T23:10:45.841167Z",
     "iopub.status.busy": "2025-04-24T23:10:45.840812Z",
     "iopub.status.idle": "2025-04-24T23:10:46.116066Z",
     "shell.execute_reply": "2025-04-24T23:10:46.115269Z"
    },
    "papermill": {
     "duration": 0.282525,
     "end_time": "2025-04-24T23:10:46.117472",
     "exception": false,
     "start_time": "2025-04-24T23:10:45.834947",
     "status": "completed"
    },
    "tags": []
   },
   "outputs": [
    {
     "data": {
      "text/plain": [
       "label\n",
       "positive    1800000\n",
       "negative    1800000\n",
       "Name: count, dtype: int64"
      ]
     },
     "execution_count": 7,
     "metadata": {},
     "output_type": "execute_result"
    }
   ],
   "source": [
    "train_df['label'].value_counts()\n"
   ]
  },
  {
   "cell_type": "code",
   "execution_count": 8,
   "id": "e8f4c8ac",
   "metadata": {
    "execution": {
     "iopub.execute_input": "2025-04-24T23:10:46.129258Z",
     "iopub.status.busy": "2025-04-24T23:10:46.128930Z",
     "iopub.status.idle": "2025-04-24T23:10:46.135488Z",
     "shell.execute_reply": "2025-04-24T23:10:46.134469Z"
    },
    "papermill": {
     "duration": 0.014065,
     "end_time": "2025-04-24T23:10:46.136951",
     "exception": false,
     "start_time": "2025-04-24T23:10:46.122886",
     "status": "completed"
    },
    "tags": []
   },
   "outputs": [
    {
     "data": {
      "text/plain": [
       "'Stuning even for the non-gamer: This sound track was beautiful! It paints the senery in your mind so well I would recomend it even to people who hate vid. game music! I have played the game Chrono Cross but out of all of the games I have ever played it has the best music! It backs away from crude keyboarding and takes a fresher step with grate guitars and soulful orchestras. It would impress anyone who cares to listen! ^_^'"
      ]
     },
     "execution_count": 8,
     "metadata": {},
     "output_type": "execute_result"
    }
   ],
   "source": [
    "train_df['text'][0]"
   ]
  },
  {
   "cell_type": "code",
   "execution_count": 9,
   "id": "b6a38af9",
   "metadata": {
    "execution": {
     "iopub.execute_input": "2025-04-24T23:10:46.149739Z",
     "iopub.status.busy": "2025-04-24T23:10:46.149414Z",
     "iopub.status.idle": "2025-04-24T23:11:32.748484Z",
     "shell.execute_reply": "2025-04-24T23:11:32.747562Z"
    },
    "papermill": {
     "duration": 46.606985,
     "end_time": "2025-04-24T23:11:32.750344",
     "exception": false,
     "start_time": "2025-04-24T23:10:46.143359",
     "status": "completed"
    },
    "tags": []
   },
   "outputs": [],
   "source": [
    "for df in [train_df, test_df]:\n",
    "    df['text'] = df['text'].str.replace(r\"[^a-zA-Z\\s]\", '', regex=True)\n",
    "    df['text'] = df['text'].str.lower().str.strip()\n",
    "    #df['text'] = df['text'].apply(remove_stopwords)\n"
   ]
  },
  {
   "cell_type": "code",
   "execution_count": 10,
   "id": "8455e547",
   "metadata": {
    "execution": {
     "iopub.execute_input": "2025-04-24T23:11:32.762354Z",
     "iopub.status.busy": "2025-04-24T23:11:32.761767Z",
     "iopub.status.idle": "2025-04-24T23:12:36.991040Z",
     "shell.execute_reply": "2025-04-24T23:12:36.990047Z"
    },
    "papermill": {
     "duration": 64.236731,
     "end_time": "2025-04-24T23:12:36.992646",
     "exception": false,
     "start_time": "2025-04-24T23:11:32.755915",
     "status": "completed"
    },
    "tags": []
   },
   "outputs": [],
   "source": [
    "sw = set(stopwords.words('english'))\n",
    "negations = {\"no\", \"not\", \"nor\", \"dont\", \"didnt\", \"isnt\", \"wasnt\", \"shouldnt\", \"wont\", \"cant\", \"couldnt\"}\n",
    "sw = sw.difference(negations)\n",
    "\n",
    "def remove_stopwords(text):\n",
    "    return ' '.join([word for word in text.split() if word.lower() not in sw])\n",
    "\n",
    "train_df['text'] = train_df['text'].apply(remove_stopwords)\n",
    "test_df['text'] = test_df['text'].apply(remove_stopwords)"
   ]
  },
  {
   "cell_type": "markdown",
   "id": "cf828545",
   "metadata": {
    "jupyter": {
     "source_hidden": true
    },
    "papermill": {
     "duration": 0.005226,
     "end_time": "2025-04-24T23:12:37.003547",
     "exception": false,
     "start_time": "2025-04-24T23:12:36.998321",
     "status": "completed"
    },
    "tags": []
   },
   "source": [
    "## Attempted Lemmatization"
   ]
  },
  {
   "cell_type": "code",
   "execution_count": 11,
   "id": "0c3a3245",
   "metadata": {
    "execution": {
     "iopub.execute_input": "2025-04-24T23:12:37.029490Z",
     "iopub.status.busy": "2025-04-24T23:12:37.029167Z",
     "iopub.status.idle": "2025-04-24T23:12:37.033384Z",
     "shell.execute_reply": "2025-04-24T23:12:37.032490Z"
    },
    "jupyter": {
     "source_hidden": true
    },
    "papermill": {
     "duration": 0.026162,
     "end_time": "2025-04-24T23:12:37.035249",
     "exception": false,
     "start_time": "2025-04-24T23:12:37.009087",
     "status": "completed"
    },
    "tags": []
   },
   "outputs": [],
   "source": [
    "# import nltk\n",
    "# nltk.data.path.append('/usr/share/nltk_data')\n"
   ]
  },
  {
   "cell_type": "code",
   "execution_count": 12,
   "id": "29e21e5c",
   "metadata": {
    "execution": {
     "iopub.execute_input": "2025-04-24T23:12:37.047399Z",
     "iopub.status.busy": "2025-04-24T23:12:37.047110Z",
     "iopub.status.idle": "2025-04-24T23:12:37.051783Z",
     "shell.execute_reply": "2025-04-24T23:12:37.050759Z"
    },
    "jupyter": {
     "source_hidden": true
    },
    "papermill": {
     "duration": 0.012488,
     "end_time": "2025-04-24T23:12:37.053320",
     "exception": false,
     "start_time": "2025-04-24T23:12:37.040832",
     "status": "completed"
    },
    "tags": []
   },
   "outputs": [],
   "source": [
    "# from nltk.stem import WordNetLemmatizer\n",
    "# from nltk.corpus import wordnet\n",
    "# from nltk import pos_tag, word_tokenize\n",
    "\n",
    "# lemmatizer = WordNetLemmatizer()\n",
    "\n",
    "# def get_wordnet_pos(tag):\n",
    "#     if tag.startswith('J'):\n",
    "#         return wordnet.ADJ\n",
    "#     elif tag.startswith('V'):\n",
    "#         return wordnet.VERB\n",
    "#     elif tag.startswith('N'):\n",
    "#         return wordnet.NOUN\n",
    "#     elif tag.startswith('R'):\n",
    "#         return wordnet.ADV\n",
    "#     else:\n",
    "#         return wordnet.NOUN\n",
    "\n",
    "# def lemmatize_nltk(text):\n",
    "#     words = word_tokenize(text)\n",
    "#     tagged_words = pos_tag(words)\n",
    "#     lemmatized = [lemmatizer.lemmatize(w, get_wordnet_pos(pos)) for w, pos in tagged_words]\n",
    "#     return ' '.join(lemmatized)\n"
   ]
  },
  {
   "cell_type": "code",
   "execution_count": 13,
   "id": "e055b110",
   "metadata": {
    "execution": {
     "iopub.execute_input": "2025-04-24T23:12:37.064969Z",
     "iopub.status.busy": "2025-04-24T23:12:37.064625Z",
     "iopub.status.idle": "2025-04-24T23:12:37.069125Z",
     "shell.execute_reply": "2025-04-24T23:12:37.068286Z"
    },
    "jupyter": {
     "source_hidden": true
    },
    "papermill": {
     "duration": 0.012267,
     "end_time": "2025-04-24T23:12:37.070823",
     "exception": false,
     "start_time": "2025-04-24T23:12:37.058556",
     "status": "completed"
    },
    "tags": []
   },
   "outputs": [],
   "source": [
    "# train_df['text'] = train_df['text'].apply(lemmatize_nltk)\n",
    "# test_df['text'] = test_df['text'].apply(lemmatize_nltk)\n"
   ]
  },
  {
   "cell_type": "code",
   "execution_count": 14,
   "id": "6883d160",
   "metadata": {
    "execution": {
     "iopub.execute_input": "2025-04-24T23:12:37.083185Z",
     "iopub.status.busy": "2025-04-24T23:12:37.082484Z",
     "iopub.status.idle": "2025-04-24T23:12:37.088523Z",
     "shell.execute_reply": "2025-04-24T23:12:37.087385Z"
    },
    "papermill": {
     "duration": 0.013611,
     "end_time": "2025-04-24T23:12:37.089994",
     "exception": false,
     "start_time": "2025-04-24T23:12:37.076383",
     "status": "completed"
    },
    "tags": []
   },
   "outputs": [
    {
     "data": {
      "text/plain": [
       "'stuning even nongamer sound track beautiful paints senery mind well would recomend even people hate vid game music played game chrono cross games ever played best music backs away crude keyboarding takes fresher step grate guitars soulful orchestras would impress anyone cares listen'"
      ]
     },
     "execution_count": 14,
     "metadata": {},
     "output_type": "execute_result"
    }
   ],
   "source": [
    "train_df['text'][0]\n"
   ]
  },
  {
   "cell_type": "markdown",
   "id": "caaf711a",
   "metadata": {
    "papermill": {
     "duration": 0.004841,
     "end_time": "2025-04-24T23:12:37.100031",
     "exception": false,
     "start_time": "2025-04-24T23:12:37.095190",
     "status": "completed"
    },
    "tags": []
   },
   "source": [
    "#### We’ll use TF-IDF (or CountVectorizer) to convert the text into numbers the model can understand.\n",
    "\n"
   ]
  },
  {
   "cell_type": "code",
   "execution_count": 15,
   "id": "e2bf6759",
   "metadata": {
    "execution": {
     "iopub.execute_input": "2025-04-24T23:12:37.111886Z",
     "iopub.status.busy": "2025-04-24T23:12:37.110980Z",
     "iopub.status.idle": "2025-04-24T23:15:12.224096Z",
     "shell.execute_reply": "2025-04-24T23:15:12.222960Z"
    },
    "papermill": {
     "duration": 155.121799,
     "end_time": "2025-04-24T23:15:12.226875",
     "exception": false,
     "start_time": "2025-04-24T23:12:37.105076",
     "status": "completed"
    },
    "tags": []
   },
   "outputs": [],
   "source": [
    "from sklearn.feature_extraction.text import TfidfVectorizer\n",
    "\n",
    "vectorizer = TfidfVectorizer(max_features=5000)  # You can tweak this number\n",
    "X_train = vectorizer.fit_transform(train_df['text'])\n",
    "X_test = vectorizer.transform(test_df['text'])\n",
    "\n",
    "y_train = train_df['label']\n",
    "y_test = test_df['label']\n"
   ]
  },
  {
   "cell_type": "code",
   "execution_count": 16,
   "id": "a8bb946d",
   "metadata": {
    "execution": {
     "iopub.execute_input": "2025-04-24T23:15:12.245246Z",
     "iopub.status.busy": "2025-04-24T23:15:12.244890Z",
     "iopub.status.idle": "2025-04-24T23:17:06.966224Z",
     "shell.execute_reply": "2025-04-24T23:17:06.964764Z"
    },
    "papermill": {
     "duration": 114.745228,
     "end_time": "2025-04-24T23:17:06.981400",
     "exception": false,
     "start_time": "2025-04-24T23:15:12.236172",
     "status": "completed"
    },
    "tags": []
   },
   "outputs": [
    {
     "data": {
      "text/html": [
       "<style>#sk-container-id-1 {color: black;background-color: white;}#sk-container-id-1 pre{padding: 0;}#sk-container-id-1 div.sk-toggleable {background-color: white;}#sk-container-id-1 label.sk-toggleable__label {cursor: pointer;display: block;width: 100%;margin-bottom: 0;padding: 0.3em;box-sizing: border-box;text-align: center;}#sk-container-id-1 label.sk-toggleable__label-arrow:before {content: \"▸\";float: left;margin-right: 0.25em;color: #696969;}#sk-container-id-1 label.sk-toggleable__label-arrow:hover:before {color: black;}#sk-container-id-1 div.sk-estimator:hover label.sk-toggleable__label-arrow:before {color: black;}#sk-container-id-1 div.sk-toggleable__content {max-height: 0;max-width: 0;overflow: hidden;text-align: left;background-color: #f0f8ff;}#sk-container-id-1 div.sk-toggleable__content pre {margin: 0.2em;color: black;border-radius: 0.25em;background-color: #f0f8ff;}#sk-container-id-1 input.sk-toggleable__control:checked~div.sk-toggleable__content {max-height: 200px;max-width: 100%;overflow: auto;}#sk-container-id-1 input.sk-toggleable__control:checked~label.sk-toggleable__label-arrow:before {content: \"▾\";}#sk-container-id-1 div.sk-estimator input.sk-toggleable__control:checked~label.sk-toggleable__label {background-color: #d4ebff;}#sk-container-id-1 div.sk-label input.sk-toggleable__control:checked~label.sk-toggleable__label {background-color: #d4ebff;}#sk-container-id-1 input.sk-hidden--visually {border: 0;clip: rect(1px 1px 1px 1px);clip: rect(1px, 1px, 1px, 1px);height: 1px;margin: -1px;overflow: hidden;padding: 0;position: absolute;width: 1px;}#sk-container-id-1 div.sk-estimator {font-family: monospace;background-color: #f0f8ff;border: 1px dotted black;border-radius: 0.25em;box-sizing: border-box;margin-bottom: 0.5em;}#sk-container-id-1 div.sk-estimator:hover {background-color: #d4ebff;}#sk-container-id-1 div.sk-parallel-item::after {content: \"\";width: 100%;border-bottom: 1px solid gray;flex-grow: 1;}#sk-container-id-1 div.sk-label:hover label.sk-toggleable__label {background-color: #d4ebff;}#sk-container-id-1 div.sk-serial::before {content: \"\";position: absolute;border-left: 1px solid gray;box-sizing: border-box;top: 0;bottom: 0;left: 50%;z-index: 0;}#sk-container-id-1 div.sk-serial {display: flex;flex-direction: column;align-items: center;background-color: white;padding-right: 0.2em;padding-left: 0.2em;position: relative;}#sk-container-id-1 div.sk-item {position: relative;z-index: 1;}#sk-container-id-1 div.sk-parallel {display: flex;align-items: stretch;justify-content: center;background-color: white;position: relative;}#sk-container-id-1 div.sk-item::before, #sk-container-id-1 div.sk-parallel-item::before {content: \"\";position: absolute;border-left: 1px solid gray;box-sizing: border-box;top: 0;bottom: 0;left: 50%;z-index: -1;}#sk-container-id-1 div.sk-parallel-item {display: flex;flex-direction: column;z-index: 1;position: relative;background-color: white;}#sk-container-id-1 div.sk-parallel-item:first-child::after {align-self: flex-end;width: 50%;}#sk-container-id-1 div.sk-parallel-item:last-child::after {align-self: flex-start;width: 50%;}#sk-container-id-1 div.sk-parallel-item:only-child::after {width: 0;}#sk-container-id-1 div.sk-dashed-wrapped {border: 1px dashed gray;margin: 0 0.4em 0.5em 0.4em;box-sizing: border-box;padding-bottom: 0.4em;background-color: white;}#sk-container-id-1 div.sk-label label {font-family: monospace;font-weight: bold;display: inline-block;line-height: 1.2em;}#sk-container-id-1 div.sk-label-container {text-align: center;}#sk-container-id-1 div.sk-container {/* jupyter's `normalize.less` sets `[hidden] { display: none; }` but bootstrap.min.css set `[hidden] { display: none !important; }` so we also need the `!important` here to be able to override the default hidden behavior on the sphinx rendered scikit-learn.org. See: https://github.com/scikit-learn/scikit-learn/issues/21755 */display: inline-block !important;position: relative;}#sk-container-id-1 div.sk-text-repr-fallback {display: none;}</style><div id=\"sk-container-id-1\" class=\"sk-top-container\"><div class=\"sk-text-repr-fallback\"><pre>LogisticRegression(max_iter=1000)</pre><b>In a Jupyter environment, please rerun this cell to show the HTML representation or trust the notebook. <br />On GitHub, the HTML representation is unable to render, please try loading this page with nbviewer.org.</b></div><div class=\"sk-container\" hidden><div class=\"sk-item\"><div class=\"sk-estimator sk-toggleable\"><input class=\"sk-toggleable__control sk-hidden--visually\" id=\"sk-estimator-id-1\" type=\"checkbox\" checked><label for=\"sk-estimator-id-1\" class=\"sk-toggleable__label sk-toggleable__label-arrow\">LogisticRegression</label><div class=\"sk-toggleable__content\"><pre>LogisticRegression(max_iter=1000)</pre></div></div></div></div></div>"
      ],
      "text/plain": [
       "LogisticRegression(max_iter=1000)"
      ]
     },
     "execution_count": 16,
     "metadata": {},
     "output_type": "execute_result"
    }
   ],
   "source": [
    "model = LogisticRegression(max_iter=1000)\n",
    "model.fit(X_train, y_train)"
   ]
  },
  {
   "cell_type": "code",
   "execution_count": 17,
   "id": "d075ff01",
   "metadata": {
    "execution": {
     "iopub.execute_input": "2025-04-24T23:17:06.995455Z",
     "iopub.status.busy": "2025-04-24T23:17:06.995000Z",
     "iopub.status.idle": "2025-04-24T23:17:27.963161Z",
     "shell.execute_reply": "2025-04-24T23:17:27.961732Z"
    },
    "papermill": {
     "duration": 20.977325,
     "end_time": "2025-04-24T23:17:27.964782",
     "exception": false,
     "start_time": "2025-04-24T23:17:06.987457",
     "status": "completed"
    },
    "tags": []
   },
   "outputs": [
    {
     "name": "stdout",
     "output_type": "stream",
     "text": [
      "Accuracy: 0.8979875\n",
      "\n",
      "Classification Report:\n",
      "               precision    recall  f1-score   support\n",
      "\n",
      "    negative       0.90      0.90      0.90    200000\n",
      "    positive       0.90      0.90      0.90    200000\n",
      "\n",
      "    accuracy                           0.90    400000\n",
      "   macro avg       0.90      0.90      0.90    400000\n",
      "weighted avg       0.90      0.90      0.90    400000\n",
      "\n"
     ]
    }
   ],
   "source": [
    "y_pred = model.predict(X_test)\n",
    "\n",
    "print(\"Accuracy:\", accuracy_score(y_test, y_pred))\n",
    "print(\"\\nClassification Report:\\n\", classification_report(y_test, y_pred))\n"
   ]
  },
  {
   "cell_type": "code",
   "execution_count": 18,
   "id": "7328e99b",
   "metadata": {
    "execution": {
     "iopub.execute_input": "2025-04-24T23:17:27.977702Z",
     "iopub.status.busy": "2025-04-24T23:17:27.977339Z",
     "iopub.status.idle": "2025-04-24T23:17:30.504048Z",
     "shell.execute_reply": "2025-04-24T23:17:30.503187Z"
    },
    "papermill": {
     "duration": 2.535147,
     "end_time": "2025-04-24T23:17:30.505746",
     "exception": false,
     "start_time": "2025-04-24T23:17:27.970599",
     "status": "completed"
    },
    "tags": []
   },
   "outputs": [
    {
     "data": {
      "image/png": "[encoded data removed]",
      "text/plain": [
       "<Figure size 640x480 with 2 Axes>"
      ]
     },
     "metadata": {},
     "output_type": "display_data"
    }
   ],
   "source": [
    "import seaborn as sns\n",
    "import matplotlib.pyplot as plt\n",
    "\n",
    "cm = confusion_matrix(y_test, y_pred, labels=['positive', 'negative'])\n",
    "sns.heatmap(cm, annot=True, fmt='d', cmap='Blues', xticklabels=['positive', 'negative'], yticklabels=['positive', 'negative'])\n",
    "plt.xlabel('Predicted')\n",
    "plt.ylabel('Actual')\n",
    "plt.title('Confusion Matrix')\n",
    "plt.show()\n"
   ]
  },
  {
   "cell_type": "markdown",
   "id": "a06f2840",
   "metadata": {
    "papermill": {
     "duration": 0.005878,
     "end_time": "2025-04-24T23:17:30.518223",
     "exception": false,
     "start_time": "2025-04-24T23:17:30.512345",
     "status": "completed"
    },
    "tags": []
   },
   "source": [
    "## Predicting "
   ]
  },
  {
   "cell_type": "code",
   "execution_count": 19,
   "id": "382f7d1d",
   "metadata": {
    "execution": {
     "iopub.execute_input": "2025-04-24T23:17:30.532185Z",
     "iopub.status.busy": "2025-04-24T23:17:30.531176Z",
     "iopub.status.idle": "2025-04-24T23:17:30.535700Z",
     "shell.execute_reply": "2025-04-24T23:17:30.535000Z"
    },
    "jupyter": {
     "source_hidden": true
    },
    "papermill": {
     "duration": 0.012703,
     "end_time": "2025-04-24T23:17:30.536985",
     "exception": false,
     "start_time": "2025-04-24T23:17:30.524282",
     "status": "completed"
    },
    "tags": []
   },
   "outputs": [],
   "source": [
    "# def predict_sentiment(text):\n",
    "#     # Clean input\n",
    "#     cleaned = re.sub(r\"[^a-zA-Z\\s]\", '', text)\n",
    "#     cleaned = cleaned.lower().strip()\n",
    "#     cleaned = ' '.join([word for word in cleaned.split() if word not in sw])\n",
    "    \n",
    "#     # Vectorize and predict\n",
    "#     vec = vectorizer.transform([cleaned])\n",
    "#     prediction = model.predict(vec)[0]\n",
    "#     return prediction"
   ]
  },
  {
   "cell_type": "code",
   "execution_count": 20,
   "id": "be16073c",
   "metadata": {
    "execution": {
     "iopub.execute_input": "2025-04-24T23:17:30.551314Z",
     "iopub.status.busy": "2025-04-24T23:17:30.550966Z",
     "iopub.status.idle": "2025-04-24T23:17:30.554897Z",
     "shell.execute_reply": "2025-04-24T23:17:30.554054Z"
    },
    "jupyter": {
     "source_hidden": true
    },
    "papermill": {
     "duration": 0.012642,
     "end_time": "2025-04-24T23:17:30.556346",
     "exception": false,
     "start_time": "2025-04-24T23:17:30.543704",
     "status": "completed"
    },
    "tags": []
   },
   "outputs": [],
   "source": [
    "# user_input = input(\"Enter a review: \")\n",
    "# print(\"Predicted sentiment:\", predict_sentiment(user_input))\n"
   ]
  },
  {
   "cell_type": "code",
   "execution_count": 21,
   "id": "efceabdf",
   "metadata": {
    "execution": {
     "iopub.execute_input": "2025-04-24T23:17:30.570320Z",
     "iopub.status.busy": "2025-04-24T23:17:30.569830Z",
     "iopub.status.idle": "2025-04-24T23:17:30.574717Z",
     "shell.execute_reply": "2025-04-24T23:17:30.573759Z"
    },
    "jupyter": {
     "source_hidden": true
    },
    "papermill": {
     "duration": 0.013872,
     "end_time": "2025-04-24T23:17:30.576361",
     "exception": false,
     "start_time": "2025-04-24T23:17:30.562489",
     "status": "completed"
    },
    "tags": []
   },
   "outputs": [],
   "source": [
    "# from sklearn.naive_bayes import MultinomialNB\n",
    "# from sklearn.svm import LinearSVC\n",
    "# from sklearn.ensemble import RandomForestClassifier\n",
    "# from sklearn.neural_network import MLPClassifier\n",
    "# from sklearn.metrics import accuracy_score, classification_report\n",
    "\n",
    "# models = {\n",
    "#     'Logistic Regression': LogisticRegression(max_iter=1000),\n",
    "#     'Naive Bayes': MultinomialNB(),\n",
    "#     'Linear SVM': LinearSVC(),\n",
    "#     'Random Forest': RandomForestClassifier(n_estimators=100),\n",
    "#     'MLP (Neural Net)': MLPClassifier(hidden_layer_sizes=(100,), max_iter=300)\n",
    "# }\n",
    "\n",
    "# results = {}\n",
    "\n",
    "# for name, model in models.items():\n",
    "#     model.fit(X_train, y_train)\n",
    "#     preds = model.predict(X_test)\n",
    "#     acc = accuracy_score(y_test, preds)\n",
    "#     results[name] = acc\n",
    "#     print(f\"\\n{name} Accuracy: {acc:.4f}\")\n",
    "#     print(classification_report(y_test, preds))\n"
   ]
  },
  {
   "cell_type": "code",
   "execution_count": 22,
   "id": "d4ed4672",
   "metadata": {
    "execution": {
     "iopub.execute_input": "2025-04-24T23:17:30.590119Z",
     "iopub.status.busy": "2025-04-24T23:17:30.589782Z",
     "iopub.status.idle": "2025-04-24T23:17:31.801368Z",
     "shell.execute_reply": "2025-04-24T23:17:31.800342Z"
    },
    "papermill": {
     "duration": 1.220673,
     "end_time": "2025-04-24T23:17:31.803371",
     "exception": false,
     "start_time": "2025-04-24T23:17:30.582698",
     "status": "completed"
    },
    "tags": []
   },
   "outputs": [],
   "source": [
    "import pickle\n",
    "\n",
    "# Save the model\n",
    "with open('logistic_regression_model.pkl', 'wb') as model_file:\n",
    "    pickle.dump(model, model_file)\n",
    "\n",
    "# Save the vectorizer\n",
    "with open('tfidf_vectorizer.pkl', 'wb') as vec_file:\n",
    "    pickle.dump(vectorizer, vec_file)\n"
   ]
  },
  {
   "cell_type": "code",
   "execution_count": 23,
   "id": "fad5984d",
   "metadata": {
    "execution": {
     "iopub.execute_input": "2025-04-24T23:17:31.817552Z",
     "iopub.status.busy": "2025-04-24T23:17:31.817233Z",
     "iopub.status.idle": "2025-04-24T23:17:32.623988Z",
     "shell.execute_reply": "2025-04-24T23:17:32.622954Z"
    },
    "papermill": {
     "duration": 0.816174,
     "end_time": "2025-04-24T23:17:32.626010",
     "exception": false,
     "start_time": "2025-04-24T23:17:31.809836",
     "status": "completed"
    },
    "tags": []
   },
   "outputs": [],
   "source": [
    "# Load the model\n",
    "with open('logistic_regression_model.pkl', 'rb') as model_file:\n",
    "    model = pickle.load(model_file)\n",
    "\n",
    "# Load the vectorizer\n",
    "with open('tfidf_vectorizer.pkl', 'rb') as vec_file:\n",
    "    vectorizer = pickle.load(vec_file)\n"
   ]
  }
 ],
 "metadata": {
  "kaggle": {
   "accelerator": "none",
   "dataSources": [
    {
     "datasetId": 1305,
     "sourceId": 800230,
     "sourceType": "datasetVersion"
    },
    {
     "datasetId": 7239584,
     "sourceId": 11544192,
     "sourceType": "datasetVersion"
    }
   ],
   "dockerImageVersionId": 31012,
   "isGpuEnabled": false,
   "isInternetEnabled": false,
   "language": "python",
   "sourceType": "notebook"
  },
  "kernelspec": {
   "display_name": "Python 3",
   "language": "python",
   "name": "python3"
  },
  "language_info": {
   "codemirror_mode": {
    "name": "ipython",
    "version": 3
   },
   "file_extension": ".py",
   "mimetype": "text/x-python",
   "name": "python",
   "nbconvert_exporter": "python",
   "pygments_lexer": "ipython3",
   "version": "3.11.11"
  },
  "papermill": {
   "default_parameters": {},
   "duration": 493.801256,
   "end_time": "2025-04-24T23:17:35.355229",
   "environment_variables": {},
   "exception": null,
   "input_path": "__notebook__.ipynb",
   "output_path": "__notebook__.ipynb",
   "parameters": {},
   "start_time": "2025-04-24T23:09:21.553973",
   "version": "2.6.0"
  }
 },
 "nbformat": 4,
 "nbformat_minor": 5
}
